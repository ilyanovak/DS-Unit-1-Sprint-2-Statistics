{
  "nbformat": 4,
  "nbformat_minor": 0,
  "metadata": {
    "colab": {
      "name": "LS_DS_123_Introduction_to_Bayesian_Inference_Assignment.ipynb",
      "provenance": []
    },
    "kernelspec": {
      "name": "python3",
      "display_name": "Python 3"
    }
  },
  "cells": [
    {
      "cell_type": "markdown",
      "metadata": {
        "id": "H7OLbevlbd_Z",
        "colab_type": "text"
      },
      "source": [
        "# Lambda School Data Science Module 123\n",
        "\n",
        "## Introduction to Bayesian Inference\n",
        "\n",
        "\n"
      ]
    },
    {
      "cell_type": "markdown",
      "metadata": {
        "id": "P-DzzRk5bf0z",
        "colab_type": "text"
      },
      "source": [
        "## Assignment - Code it up!\n",
        "\n",
        "We used pure math to apply Bayes Theorem to drug tests. Now write Python code to reproduce the results! This is purposefully open ended - you'll have to think about how you should represent probabilities and events. You can and should look things up.\n",
        "\n",
        "Specific goals/targets:\n",
        "\n",
        "### 1) Write a function \n",
        "\n",
        "`def prob_drunk_given_positive(prob_drunk_prior, false_positive_rate):` \n",
        "\n",
        "You should only truly need these two values in order to apply Bayes Theorem. In this example, imagine that individuals are taking a breathalyzer test with an 8% false positive rate, a 100% true positive rate, and that our prior belief about drunk driving in the population is 1/1000. \n",
        " - What is the probability that a person is drunk after one positive breathalyzer test?\n",
        " - What is the probability that a person is drunk after two positive breathalyzer tests?\n",
        " - How many positive breathalyzer tests are needed in order to have a probability that's greater than 95% that a person is drunk beyond the legal limit?\n",
        "\n",
        "### 2) Explore `scipy.stats.bayes_mvs`  \n",
        "Read its documentation, and experiment with it on data you've tested in other ways earlier this week.\n",
        " - Create a visualization comparing the results of a Bayesian approach to a traditional/frequentist approach. (with a large sample size they should look close to identical, however, take this opportunity to practice visualizing condfidence intervals in general. The following are some potential ways that you could visualize confidence intervals on your graph:\n",
        "  - [Matplotlib Error Bars](https://matplotlib.org/3.1.1/api/_as_gen/matplotlib.pyplot.errorbar.html)\n",
        "  - [Seaborn barplot with error bars](https://seaborn.pydata.org/generated/seaborn.barplot.html)\n",
        "  - [Vertical ines to show bounds of confidence interval](https://www.simplypsychology.org/confidence-interval.jpg)\n",
        "  - [Confidence Intervals on Box Plots](https://matplotlib.org/3.1.1/api/_as_gen/matplotlib.axes.Axes.boxplot.html)\n",
        "\n",
        "### 3) In your own words, summarize the difference between Bayesian and Frequentist statistics\n",
        "\n",
        "If you're unsure where to start, check out [this blog post of Bayes theorem with Python](https://dataconomy.com/2015/02/introduction-to-bayes-theorem-with-python/).\n",
        "\n"
      ]
    },
    {
      "cell_type": "markdown",
      "metadata": {
        "id": "f35eu5ZEJtKJ",
        "colab_type": "text"
      },
      "source": [
        "**1) Write a function**"
      ]
    },
    {
      "cell_type": "code",
      "metadata": {
        "id": "xpVhZyUnbf7o",
        "colab_type": "code",
        "colab": {}
      },
      "source": [
        "def prob_drunk_given_positive(prob_drunk_prior, false_positive_rate):\n",
        "  prior = prob_drunk_prior\n",
        "  conditional = 1.0\n",
        "  marginal =  (conditional * prior) + (false_positive_rate * (1-prior))\n",
        "  posterior = conditional * prior / marginal\n",
        "  return posterior"
      ],
      "execution_count": 0,
      "outputs": []
    },
    {
      "cell_type": "markdown",
      "metadata": {
        "id": "b_fagktbY0m1",
        "colab_type": "text"
      },
      "source": [
        "What is the probability that a person is drunk after one positive breathalyzer test?"
      ]
    },
    {
      "cell_type": "code",
      "metadata": {
        "id": "aroLuASTYzvv",
        "colab_type": "code",
        "colab": {
          "base_uri": "https://localhost:8080/",
          "height": 36
        },
        "outputId": "83460a2b-24e5-4c9a-fd6b-d6fb6eebb3d0"
      },
      "source": [
        "prob_drunk_given_positive(0.001, 0.08)"
      ],
      "execution_count": 92,
      "outputs": [
        {
          "output_type": "execute_result",
          "data": {
            "text/plain": [
              "0.012357884330202669"
            ]
          },
          "metadata": {
            "tags": []
          },
          "execution_count": 92
        }
      ]
    },
    {
      "cell_type": "markdown",
      "metadata": {
        "id": "pZ9S44vtbUiW",
        "colab_type": "text"
      },
      "source": [
        "What is the probability that a person is drunk after two positive breathalyzer tests?"
      ]
    },
    {
      "cell_type": "code",
      "metadata": {
        "id": "Yj1RCZISZUvh",
        "colab_type": "code",
        "colab": {
          "base_uri": "https://localhost:8080/",
          "height": 36
        },
        "outputId": "3e3edf16-069b-4f8e-bbbd-c0082a46b3c3"
      },
      "source": [
        "prob_drunk_given_positive(prob_drunk_given_positive(0.001, 0.08), 0.08)"
      ],
      "execution_count": 93,
      "outputs": [
        {
          "output_type": "execute_result",
          "data": {
            "text/plain": [
              "0.13525210993291495"
            ]
          },
          "metadata": {
            "tags": []
          },
          "execution_count": 93
        }
      ]
    },
    {
      "cell_type": "markdown",
      "metadata": {
        "id": "qdNCbxzubajb",
        "colab_type": "text"
      },
      "source": [
        "How many positive breathalyzer tests are needed in order to have a probability that's greater than 95% that a person is drunk beyond the legal limit?"
      ]
    },
    {
      "cell_type": "code",
      "metadata": {
        "id": "0HNB4rSBehbx",
        "colab_type": "code",
        "colab": {
          "base_uri": "https://localhost:8080/",
          "height": 55
        },
        "outputId": "ac138f69-e861-4307-bccb-122ef137204e"
      },
      "source": [
        "prob_drunk_prior = 0.001\n",
        "false_positive_rate = 0.08\n",
        "confidence_level = 0.95\n",
        "test_count = 0\n",
        "while (prob_drunk_prior < confidence_level):\n",
        "  prob_drunk_prior = prob_drunk_given_positive(prob_drunk_prior, false_positive_rate)\n",
        "  test_count += 1\n",
        "print(\"prob_drunk_prior:\", prob_drunk_prior)\n",
        "print(\"test_count:\", test_count)"
      ],
      "execution_count": 94,
      "outputs": [
        {
          "output_type": "stream",
          "text": [
            "prob_drunk_prior: 0.9606895076105054\n",
            "test_count: 4\n"
          ],
          "name": "stdout"
        }
      ]
    },
    {
      "cell_type": "markdown",
      "metadata": {
        "id": "OksGQyLiJu5e",
        "colab_type": "text"
      },
      "source": [
        "**2) Explore scipy.stats.bayes_mvs**"
      ]
    },
    {
      "cell_type": "code",
      "metadata": {
        "id": "Ckw9iYZHhzFU",
        "colab_type": "code",
        "colab": {}
      },
      "source": [
        "import numpy as np\n",
        "from scipy.stats import t\n",
        "from scipy.stats import bayes_mvs\n",
        "import seaborn as sns \n",
        "from matplotlib import pyplot as plt"
      ],
      "execution_count": 0,
      "outputs": []
    },
    {
      "cell_type": "code",
      "metadata": {
        "id": "6GaVC9G4JvAq",
        "colab_type": "code",
        "colab": {
          "base_uri": "https://localhost:8080/",
          "height": 55
        },
        "outputId": "94e4298e-fc9d-419d-a546-f1764173a142"
      },
      "source": [
        "data1 = np.random.binomial(n=1, p=.5, size=10)\n",
        "\n",
        "# sample size\n",
        "n = len(data1)\n",
        "# degrees of freedom\n",
        "dof = n-1\n",
        "# mean\n",
        "mean = np.mean(data1)\n",
        "# sample std\n",
        "sample_std = np.std(data1, ddof=1)\n",
        "# standard error\n",
        "std_eror = sample_std/n**.5\n",
        "\n",
        "freq_CI_1 = t.interval(0.95,dof,loc=mean,scale=std_eror)\n",
        "print(freq_CI_1)\n",
        "bayes_CI_1 = bayes_mvs(data1)[0][1]\n",
        "print(bayes_CI_1)"
      ],
      "execution_count": 96,
      "outputs": [
        {
          "output_type": "stream",
          "text": [
            "(0.030591282220162996, 0.769408717779837)\n",
            "(0.10065391160678222, 0.6993460883932178)\n"
          ],
          "name": "stdout"
        }
      ]
    },
    {
      "cell_type": "code",
      "metadata": {
        "id": "jwVFSppan3fz",
        "colab_type": "code",
        "colab": {
          "base_uri": "https://localhost:8080/",
          "height": 281
        },
        "outputId": "fa87c418-e6e0-47d8-f9d4-cd96d75e0436"
      },
      "source": [
        "sns.kdeplot(data1)\n",
        "plt.title(\"n = 10\")\n",
        "plt.axvline(x=freq_CI_1[0], color='r')\n",
        "plt.axvline(x=freq_CI_1[1], color='r');\n",
        "plt.axvline(x=bayes_CI_1[0], color='b')\n",
        "plt.axvline(x=bayes_CI_1[1], color='b');"
      ],
      "execution_count": 97,
      "outputs": [
        {
          "output_type": "display_data",
          "data": {
            "image/png": "[encoded data removed]",
            "text/plain": [
              "<Figure size 432x288 with 1 Axes>"
            ]
          },
          "metadata": {
            "tags": []
          }
        }
      ]
    },
    {
      "cell_type": "code",
      "metadata": {
        "id": "QQuvG9Edjdia",
        "colab_type": "code",
        "colab": {
          "base_uri": "https://localhost:8080/",
          "height": 55
        },
        "outputId": "70f95e80-9cd3-44b7-c134-1ba79ab7cd92"
      },
      "source": [
        "data2 = np.random.binomial(n=1, p=.5, size=100)\n",
        "\n",
        "# sample size\n",
        "n = len(data2)\n",
        "# degrees of freedom\n",
        "dof = n-1\n",
        "# mean\n",
        "mean = np.mean(data2)\n",
        "# sample std\n",
        "sample_std = np.std(data2, ddof=1)\n",
        "# standard error\n",
        "std_eror = sample_std/n**.5\n",
        "\n",
        "freq_CI_2 = t.interval(0.95,dof,loc=mean,scale=std_eror)\n",
        "print(freq_CI_2)\n",
        "bayes_CI_2 = bayes_mvs(data2)[0][1]\n",
        "print(bayes_CI_2)"
      ],
      "execution_count": 98,
      "outputs": [
        {
          "output_type": "stream",
          "text": [
            "(0.4406089327527315, 0.6393910672472686)\n",
            "(0.4568296345231153, 0.6231703654768848)\n"
          ],
          "name": "stdout"
        }
      ]
    },
    {
      "cell_type": "code",
      "metadata": {
        "id": "SU0bvW-yn6Do",
        "colab_type": "code",
        "colab": {
          "base_uri": "https://localhost:8080/",
          "height": 281
        },
        "outputId": "073a42dc-19df-45da-b440-e00f9efacc2a"
      },
      "source": [
        "sns.kdeplot(data1)\n",
        "plt.title(\"n = 100\")\n",
        "plt.axvline(x=freq_CI_2[0], color='r')\n",
        "plt.axvline(x=freq_CI_2[1], color='r');\n",
        "plt.axvline(x=bayes_CI_2[0], color='b')\n",
        "plt.axvline(x=bayes_CI_2[1], color='b');"
      ],
      "execution_count": 103,
      "outputs": [
        {
          "output_type": "display_data",
          "data": {
            "image/png": "[encoded data removed]",
            "text/plain": [
              "<Figure size 432x288 with 1 Axes>"
            ]
          },
          "metadata": {
            "tags": []
          }
        }
      ]
    },
    {
      "cell_type": "code",
      "metadata": {
        "id": "0JrSOYL2jhjk",
        "colab_type": "code",
        "colab": {
          "base_uri": "https://localhost:8080/",
          "height": 55
        },
        "outputId": "20b24e6f-e900-45e9-af82-fde19b470675"
      },
      "source": [
        "data3 = np.random.binomial(n=1, p=.5, size=1000)\n",
        "\n",
        "# sample size\n",
        "n = len(data3)\n",
        "# degrees of freedom\n",
        "dof = n-1\n",
        "# mean\n",
        "mean = np.mean(data3)\n",
        "# sample std\n",
        "sample_std = np.std(data3, ddof=1)\n",
        "# standard error\n",
        "std_eror = sample_std/n**.5\n",
        "\n",
        "freq_CI_3 = t.interval(0.95,dof,loc=mean,scale=std_eror)\n",
        "print(freq_CI_3)\n",
        "bayes_CI_3 = bayes_mvs(data3)[0][1]\n",
        "print(bayes_CI_3)"
      ],
      "execution_count": 100,
      "outputs": [
        {
          "output_type": "stream",
          "text": [
            "(0.4559676261260698, 0.5180323738739302)\n",
            "(0.4609642200759049, 0.5130357799240951)\n"
          ],
          "name": "stdout"
        }
      ]
    },
    {
      "cell_type": "code",
      "metadata": {
        "id": "0WcSyueZoTyO",
        "colab_type": "code",
        "colab": {
          "base_uri": "https://localhost:8080/",
          "height": 281
        },
        "outputId": "f97f031a-7a1b-4086-de47-2d01822fc2d9"
      },
      "source": [
        "sns.kdeplot(data1)\n",
        "plt.title(\"n = 1000\")\n",
        "plt.axvline(x=freq_CI_3[0], color='r')\n",
        "plt.axvline(x=freq_CI_3[1], color='r');\n",
        "plt.axvline(x=bayes_CI_3[0], color='b')\n",
        "plt.axvline(x=bayes_CI_3[1], color='b');"
      ],
      "execution_count": 101,
      "outputs": [
        {
          "output_type": "display_data",
          "data": {
            "image/png": "[encoded data removed]",
            "text/plain": [
              "<Figure size 432x288 with 1 Axes>"
            ]
          },
          "metadata": {
            "tags": []
          }
        }
      ]
    },
    {
      "cell_type": "markdown",
      "metadata": {
        "id": "6vrhjopmJvIH",
        "colab_type": "text"
      },
      "source": [
        "**3) In your own words, summarize the difference between Bayesian and Frequentist statistics**"
      ]
    },
    {
      "cell_type": "markdown",
      "metadata": {
        "id": "o1gd-Ma3re0s",
        "colab_type": "text"
      },
      "source": [
        "With the frequentist approach you immediately start with an assumption about your data. Given this assumption, you generate a model of the world which estimates all possibilities and their likelihoods. You then calculate how likely it would be to draw this data if this model, and your assumption by implication happened to be true. If the model implies it highly inlikely to have generated such data, then you reject your initial assumption. Otherwise, you keep the assumption.\n",
        "\n",
        "With Bayesian approach, your goal is to state your confidence in a certain value which is a probability estimate of a certain value given the data available to you. You begin by stating your prior assumption of the likelihood of the value regardless of your available data. You calculate how likely you be to draw this data if your value was true. Finally, you state the probability how likely you be to draw this data, regardless if your value was true. Given these esteimates, you are able to calculate the probability of your value being true given your data."
      ]
    },
    {
      "cell_type": "markdown",
      "metadata": {
        "id": "uWgWjp3PQ3Sq",
        "colab_type": "text"
      },
      "source": [
        "## Resources"
      ]
    },
    {
      "cell_type": "markdown",
      "metadata": {
        "id": "QRgHqmYIQ9qn",
        "colab_type": "text"
      },
      "source": [
        "- [Worked example of Bayes rule calculation](https://en.wikipedia.org/wiki/Bayes'_theorem#Examples) (helpful as it fully breaks out the denominator)\n",
        "- [Source code for mvsdist in scipy](https://github.com/scipy/scipy/blob/90534919e139d2a81c24bf08341734ff41a3db12/scipy/stats/morestats.py#L139)"
      ]
    },
    {
      "cell_type": "markdown",
      "metadata": {
        "id": "GP7Jv1XvwtkX",
        "colab_type": "text"
      },
      "source": [
        "## Stretch Goals:\n",
        "\n",
        "- Go back and study the content from Modules 1 & 2 to make sure that you're really comfortable with them.\n",
        "- Apply a Bayesian technique to a problem you previously worked (in an assignment or project work) on from a frequentist (standard) perspective\n",
        "- Check out [PyMC3](https://docs.pymc.io/) (note this goes beyond hypothesis tests into modeling) - read the guides and work through some examples\n",
        "- Take PyMC3 further - see if you can build something with it!"
      ]
    },
    {
      "cell_type": "code",
      "metadata": {
        "id": "iDi0eFr1x-v_",
        "colab_type": "code",
        "colab": {}
      },
      "source": [
        ""
      ],
      "execution_count": 0,
      "outputs": []
    }
  ]
}